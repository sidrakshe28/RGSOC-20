{
 "cells": [
  {
   "cell_type": "code",
   "execution_count": 1,
   "metadata": {},
   "outputs": [
    {
     "name": "stdout",
     "output_type": "stream",
     "text": [
      "80\n"
     ]
    }
   ],
   "source": [
    "\n",
    "# Python3 implementation of the approach \n",
    "V = 4\n",
    "answer = [] \n",
    "  \n",
    "# Function to find the minimum weight  \n",
    "# Hamiltonian Cycle \n",
    "def tsp(graph, v, currPos, n, count, cost): \n",
    "  \n",
    "    # If last node is reached and it has  \n",
    "    # a link to the starting node i.e  \n",
    "    # the source then keep the minimum  \n",
    "    # value out of the total cost of  \n",
    "    # traversal and \"ans\" \n",
    "    # Finally return to check for  \n",
    "    # more possible values \n",
    "    if (count == n and graph[currPos][0]): \n",
    "        answer.append(cost + graph[currPos][0]) \n",
    "        return\n",
    "  \n",
    "    # BACKTRACKING STEP \n",
    "    # Loop to traverse the adjacency list \n",
    "    # of currPos node and increasing the count \n",
    "    # by 1 and cost by graph[currPos][i] value \n",
    "    for i in range(n): \n",
    "        if (v[i] == False and graph[currPos][i]): \n",
    "              \n",
    "            # Mark as visited \n",
    "            v[i] = True\n",
    "            tsp(graph, v, i, n, count + 1,  \n",
    "                cost + graph[currPos][i]) \n",
    "              \n",
    "            # Mark ith node as unvisited \n",
    "            v[i] = False\n",
    "  \n",
    "# Driver code \n",
    "  \n",
    "# n is the number of nodes i.e. V \n",
    "if __name__ == '__main__': \n",
    "    n = 4\n",
    "    graph= [[ 0, 10, 15, 20 ], \n",
    "            [ 10, 0, 35, 25 ], \n",
    "            [ 15, 35, 0, 30 ], \n",
    "            [ 20, 25, 30, 0 ]] \n",
    "  \n",
    "    # Boolean array to check if a node \n",
    "    # has been visited or not \n",
    "    v = [False for i in range(n)] \n",
    "      \n",
    "    # Mark 0th node as visited \n",
    "    v[0] = True\n",
    "  \n",
    "    # Find the minimum weight Hamiltonian Cycle \n",
    "    tsp(graph, v, 0, n, 1, 0) \n",
    "  \n",
    "    # ans is the minimum weight Hamiltonian Cycle \n",
    "    print(min(answer)) \n",
    "  "
   ]
  },
  {
   "cell_type": "code",
   "execution_count": null,
   "metadata": {},
   "outputs": [],
   "source": []
  }
 ],
 "metadata": {
  "kernelspec": {
   "display_name": "Python 3",
   "language": "python",
   "name": "python3"
  },
  "language_info": {
   "codemirror_mode": {
    "name": "ipython",
    "version": 3
   },
   "file_extension": ".py",
   "mimetype": "text/x-python",
   "name": "python",
   "nbconvert_exporter": "python",
   "pygments_lexer": "ipython3",
   "version": "3.7.6"
  }
 },
 "nbformat": 4,
 "nbformat_minor": 4
}
