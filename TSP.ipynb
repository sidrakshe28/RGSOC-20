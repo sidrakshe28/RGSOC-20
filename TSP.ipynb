{
 "cells": [
  {
   "cell_type": "code",
   "execution_count": null,
   "metadata": {},
   "outputs": [],
   "source": []
  },
  {
   "cell_type": "code",
   "execution_count": 1,
   "metadata": {},
   "outputs": [
    {
     "name": "stdout",
     "output_type": "stream",
     "text": [
      "80\n"
     ]
    }
   ],
   "source": [
    "#Consider city 1 as the starting and ending point. Since route is cyclic, we can consider any point as starting point.\n",
    "#Generate all (n-1)! permutations of cities.\n",
    "#Calculate cost of every permutation and keep track of minimum cost permutation.\n",
    "#Return the permutation with minimum cost.\n",
    "\n",
    "\n",
    "# Python3 program to implement traveling salesman \n",
    "# problem using naive approach. \n",
    "from sys import maxsize \n",
    "V = 4\n",
    "  \n",
    "# implementation of traveling Salesman Problem \n",
    "def travellingSalesmanProblem(graph, s): \n",
    "  \n",
    "    # store all vertex apart from source vertex \n",
    "    vertex = [] \n",
    "    for i in range(V): \n",
    "        if i != s: \n",
    "            vertex.append(i) \n",
    "  \n",
    "    # store minimum weight Hamiltonian Cycle \n",
    "    min_path = maxsize \n",
    "  \n",
    "    while True: \n",
    "  \n",
    "        # store current Path weight(cost) \n",
    "        current_pathweight = 0\n",
    "  \n",
    "        # compute current path weight \n",
    "        k = s \n",
    "        for i in range(len(vertex)): \n",
    "            current_pathweight += graph[k][vertex[i]] \n",
    "            k = vertex[i] \n",
    "        current_pathweight += graph[k][s] \n",
    "  \n",
    "        # update minimum \n",
    "        min_path = min(min_path, current_pathweight) \n",
    "  \n",
    "        if not next_permutation(vertex): \n",
    "            break\n",
    "  \n",
    "    return min_path \n",
    "  \n",
    "# next_permutation implementation \n",
    "def next_permutation(L): \n",
    "  \n",
    "    n = len(L) \n",
    "  \n",
    "    i = n - 2\n",
    "    while i >= 0 and L[i] >= L[i + 1]: \n",
    "        i -= 1\n",
    "  \n",
    "    if i == -1: \n",
    "        return False\n",
    "  \n",
    "    j = i + 1\n",
    "    while j < n and L[j] > L[i]: \n",
    "        j += 1\n",
    "    j -= 1\n",
    "  \n",
    "    L[i], L[j] = L[j], L[i] \n",
    "  \n",
    "    left = i + 1\n",
    "    right = n - 1\n",
    "  \n",
    "    while left < right: \n",
    "        L[left], L[right] = L[right], L[left] \n",
    "        left += 1\n",
    "        right -= 1\n",
    "  \n",
    "    return True\n",
    "  \n",
    "# Driver Code \n",
    "if __name__ == \"__main__\": \n",
    "  \n",
    "    # matrix representation of graph \n",
    "    graph = [[0, 10, 15, 20], [10, 0, 35, 25],  \n",
    "             [15, 35, 0, 30], [20, 25, 30, 0]] \n",
    "    s = 0\n",
    "    print(travellingSalesmanProblem(graph, s)) \n",
    "  "
   ]
  },
  {
   "cell_type": "code",
   "execution_count": null,
   "metadata": {},
   "outputs": [],
   "source": []
  },
  {
   "cell_type": "code",
   "execution_count": null,
   "metadata": {},
   "outputs": [],
   "source": []
  }
 ],
 "metadata": {
  "kernelspec": {
   "display_name": "Python 3",
   "language": "python",
   "name": "python3"
  },
  "language_info": {
   "codemirror_mode": {
    "name": "ipython",
    "version": 3
   },
   "file_extension": ".py",
   "mimetype": "text/x-python",
   "name": "python",
   "nbconvert_exporter": "python",
   "pygments_lexer": "ipython3",
   "version": "3.7.6"
  }
 },
 "nbformat": 4,
 "nbformat_minor": 4
}
